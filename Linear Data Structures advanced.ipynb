{
 "cells": [
  {
   "cell_type": "markdown",
   "id": "5acfdcd5",
   "metadata": {},
   "source": [
    "Q1 Delete the elements in a linked list whose sum is equal to zero "
   ]
  },
  {
   "cell_type": "code",
   "execution_count": 1,
   "id": "2f5e3a20",
   "metadata": {},
   "outputs": [
    {
     "name": "stdout",
     "output_type": "stream",
     "text": [
      "Original List:\n",
      "1 -> 2 -> 3 -> -3 -> 4\n",
      "Modified List:\n",
      "1 -> 2 -> 4\n"
     ]
    }
   ],
   "source": [
    "class ListNode {\n",
    "  constructor(val) {\n",
    "    this.val = val;\n",
    "    this.next = null;\n",
    "  }\n",
    "}\n",
    "\n",
    "function deleteZeroSumNodes(head) {\n",
    "  // Create a dummy node to handle cases where the entire list cancels out to zero\n",
    "  const dummy = new ListNode(0);\n",
    "  dummy.next = head;\n",
    "\n",
    "  let current = dummy;\n",
    "  let sum = 0;\n",
    "  const sumMap = {};\n",
    "\n",
    "  while (current) {\n",
    "    sum += current.val;\n",
    "\n",
    "    // Store the sum and the node where this sum occurred\n",
    "    sumMap[sum] = current;\n",
    "\n",
    "    current = current.next;\n",
    "  }\n",
    "\n",
    "  // Reset current to the dummy node and start removing nodes that cancel out to zero\n",
    "  current = dummy;\n",
    "  sum = 0;\n",
    "\n",
    "  while (current) {\n",
    "    sum += current.val;\n",
    "\n",
    "    // If the same sum occurs again, remove elements in between\n",
    "    if (sumMap.hasOwnProperty(sum) && sumMap[sum] !== current) {\n",
    "      let toRemove = current.next;\n",
    "      let tempSum = sum + toRemove.val;\n",
    "      \n",
    "      while (toRemove !== sumMap[sum]) {\n",
    "        delete sumMap[tempSum];\n",
    "        toRemove = toRemove.next;\n",
    "        tempSum += toRemove.val;\n",
    "      }\n",
    "\n",
    "      // Update the next pointer of the previous node\n",
    "      current.next = toRemove.next;\n",
    "    }\n",
    "\n",
    "    current = current.next;\n",
    "  }\n",
    "\n",
    "  return dummy.next;\n",
    "}\n",
    "\n",
    "// Helper function to print the linked list\n",
    "function printList(head) {\n",
    "  let current = head;\n",
    "  const result = [];\n",
    "  while (current) {\n",
    "    result.push(current.val);\n",
    "    current = current.next;\n",
    "  }\n",
    "  console.log(result.join(\" -> \"));\n",
    "}\n",
    "\n",
    "// Example usage\n",
    "const head = new ListNode(1);\n",
    "head.next = new ListNode(2);\n",
    "head.next.next = new ListNode(3);\n",
    "head.next.next.next = new ListNode(-3);\n",
    "head.next.next.next.next = new ListNode(4);\n",
    "\n",
    "console.log(\"Original List:\");\n",
    "printList(head);\n",
    "\n",
    "const newHead = deleteZeroSumNodes(head);\n",
    "\n",
    "console.log(\"Modified List:\");\n",
    "printList(newHead);\n",
    "\n"
   ]
  },
  {
   "cell_type": "markdown",
   "id": "2474449a",
   "metadata": {},
   "source": [
    "Q2 Reverse a linked list in groups of given size"
   ]
  },
  {
   "cell_type": "code",
   "execution_count": 1,
   "id": "8c5a88b6",
   "metadata": {},
   "outputs": [
    {
     "name": "stdout",
     "output_type": "stream",
     "text": [
      "Original linked list:\n",
      "1 -> 2 -> 3 -> 4 -> 5 -> 6 -> 7 -> 8 -> null\n",
      "Linked list reversed in groups of 3:\n",
      "3 -> 2 -> 1 -> 6 -> 5 -> 4 -> 8 -> 7 -> null\n"
     ]
    }
   ],
   "source": [
    "class ListNode {\n",
    "    constructor(value) {\n",
    "        this.value = value;\n",
    "        this.next = null;\n",
    "    }\n",
    "}\n",
    "\n",
    "function reverseInGroups(head, k) {\n",
    "    if (!head || k <= 1) {\n",
    "        return head;\n",
    "    }\n",
    "\n",
    "    let prevGroupEnd = null;\n",
    "    let current = head;\n",
    "    let newHead = null;\n",
    "\n",
    "    while (current) {\n",
    "        let groupStart = current;\n",
    "        let groupEnd = current;\n",
    "        let prev = null;\n",
    "        let count = 0;\n",
    "\n",
    "        while (current && count < k) {\n",
    "            const nextNode = current.next;\n",
    "            current.next = prev;\n",
    "            prev = current;\n",
    "            current = nextNode;\n",
    "            count++;\n",
    "        }\n",
    "\n",
    "        if (prevGroupEnd) {\n",
    "            prevGroupEnd.next = prev;\n",
    "        } else {\n",
    "            newHead = prev;\n",
    "        }\n",
    "\n",
    "        prevGroupEnd = groupEnd;\n",
    "    }\n",
    "\n",
    "    return newHead;\n",
    "}\n",
    "\n",
    "// Helper function to print the linked list\n",
    "function printLinkedList(head) {\n",
    "    let current = head;\n",
    "    let result = '';\n",
    "    while (current) {\n",
    "        result += current.value + \" -> \";\n",
    "        current = current.next;\n",
    "    }\n",
    "    result += \"null\";\n",
    "    console.log(result);\n",
    "}\n",
    "\n",
    "// Example usage:\n",
    "const head = new ListNode(1);\n",
    "let current = head;\n",
    "for (let i = 2; i <= 8; i++) {\n",
    "    current.next = new ListNode(i);\n",
    "    current = current.next;\n",
    "}\n",
    "\n",
    "console.log(\"Original linked list:\");\n",
    "printLinkedList(head);\n",
    "\n",
    "const k = 3; // Group size\n",
    "const newHead = reverseInGroups(head, k);\n",
    "\n",
    "console.log(`Linked list reversed in groups of ${k}:`);\n",
    "printLinkedList(newHead);\n"
   ]
  },
  {
   "cell_type": "markdown",
   "id": "f5f8c23e",
   "metadata": {},
   "source": [
    "Q3 Merge a linked list into another linked list at alternate positions"
   ]
  },
  {
   "cell_type": "code",
   "execution_count": 1,
   "id": "c62da870",
   "metadata": {},
   "outputs": [
    {
     "name": "stdout",
     "output_type": "stream",
     "text": [
      "List 1:\n",
      "1 -> \n",
      "3 -> \n",
      "5 -> \n",
      "null\n",
      "List 2:\n",
      "2 -> \n",
      "4 -> \n",
      "6 -> \n",
      "null\n",
      "Merged List at Alternate Positions:\n",
      "1 -> \n",
      "2 -> \n",
      "3 -> \n",
      "4 -> \n",
      "5 -> \n",
      "6 -> \n",
      "null\n"
     ]
    }
   ],
   "source": [
    "class Node {\n",
    "  constructor(value) {\n",
    "    this.value = value;\n",
    "    this.next = null;\n",
    "  }\n",
    "}\n",
    "\n",
    "class LinkedList {\n",
    "  constructor() {\n",
    "    this.head = null;\n",
    "  }\n",
    "\n",
    "  append(value) {\n",
    "    const newNode = new Node(value);\n",
    "    if (!this.head) {\n",
    "      this.head = newNode;\n",
    "    } else {\n",
    "      let current = this.head;\n",
    "      while (current.next) {\n",
    "        current = current.next;\n",
    "      }\n",
    "      current.next = newNode;\n",
    "    }\n",
    "  }\n",
    "\n",
    "  printList() {\n",
    "    let current = this.head;\n",
    "    while (current) {\n",
    "      console.log(current.value + \" -> \");\n",
    "      current = current.next;\n",
    "    }\n",
    "    console.log(\"null\");\n",
    "  }\n",
    "}\n",
    "\n",
    "function mergeListsAtAlternatePositions(list1, list2) {\n",
    "  const mergedList = new LinkedList();\n",
    "  let current1 = list1.head;\n",
    "  let current2 = list2.head;\n",
    "\n",
    "  while (current1 || current2) {\n",
    "    if (current1) {\n",
    "      mergedList.append(current1.value);\n",
    "      current1 = current1.next;\n",
    "    }\n",
    "    if (current2) {\n",
    "      mergedList.append(current2.value);\n",
    "      current2 = current2.next;\n",
    "    }\n",
    "  }\n",
    "\n",
    "  return mergedList;\n",
    "}\n",
    "\n",
    "// Example usage:\n",
    "const list1 = new LinkedList();\n",
    "list1.append(1);\n",
    "list1.append(3);\n",
    "list1.append(5);\n",
    "\n",
    "const list2 = new LinkedList();\n",
    "list2.append(2);\n",
    "list2.append(4);\n",
    "list2.append(6);\n",
    "\n",
    "const mergedList = mergeListsAtAlternatePositions(list1, list2);\n",
    "\n",
    "console.log(\"List 1:\");\n",
    "list1.printList();\n",
    "\n",
    "console.log(\"List 2:\");\n",
    "list2.printList();\n",
    "\n",
    "console.log(\"Merged List at Alternate Positions:\");\n",
    "mergedList.printList();\n"
   ]
  },
  {
   "cell_type": "markdown",
   "id": "2d9faede",
   "metadata": {},
   "source": [
    "Q4. In an array, Count Pairs with given sum"
   ]
  },
  {
   "cell_type": "code",
   "execution_count": 2,
   "id": "46122fde",
   "metadata": {},
   "outputs": [
    {
     "name": "stdout",
     "output_type": "stream",
     "text": [
      "Pair of = 8 7\n"
     ]
    }
   ],
   "source": [
    "\n",
    "let pairArr = [1, 2, 3, 4, 5, 6, 7, 8, 9, 10];\n",
    "let sum = 8;\n",
    "const Countpair = (array, sum) => {\n",
    "  let subArr = [];\n",
    "  for (let i = 0; i < array.length; i++) {\n",
    "    for (let j = 0; j < array.length; j++) {\n",
    "      if (array[i] + array[j] == sum) {\n",
    "        let subArr2 = [];\n",
    "        subArr2.push(array[i]);\n",
    "        subArr2.push(array[j]);\n",
    "        subArr.push(subArr2);\n",
    "      }\n",
    "    }\n",
    "  }\n",
    "  return subArr.length;\n",
    "};\n",
    "console.log(\"Pair of = \" + sum, Countpair(pairArr, sum));\n"
   ]
  },
  {
   "cell_type": "markdown",
   "id": "ab373772",
   "metadata": {},
   "source": [
    "Q5. Find duplicates in an array"
   ]
  },
  {
   "cell_type": "code",
   "execution_count": 3,
   "id": "0ea75730",
   "metadata": {},
   "outputs": [
    {
     "name": "stdout",
     "output_type": "stream",
     "text": [
      "Duplicate items are akansha,2,5,1\n"
     ]
    }
   ],
   "source": [
    "\n",
    "let findDupArr = [\"akansha\", 2, 5, 4, 1, 2, 5, 7, 0, 1, \"akansha\"];\n",
    "const findDup = (array) => {\n",
    "  dupArr = [];\n",
    "  count = 0;\n",
    "  for (let i = 0; i < array.length; i++) {\n",
    "    for (let j = i + 1; j < array.length; j++) {\n",
    "      if (array[i] == array[j]) {\n",
    "        dupArr.push(array[i]);\n",
    "      }\n",
    "    }\n",
    "  }\n",
    "  return dupArr;\n",
    "};\n",
    "console.log(\"Duplicate items are \" + findDup(findDupArr));\n"
   ]
  },
  {
   "cell_type": "markdown",
   "id": "53dc5bf9",
   "metadata": {},
   "source": [
    "Q6. Find the kth largest and Kth smallest number in an array"
   ]
  },
  {
   "cell_type": "code",
   "execution_count": 4,
   "id": "2e7371b3",
   "metadata": {},
   "outputs": [
    {
     "name": "stdout",
     "output_type": "stream",
     "text": [
      "3 min & 2 max elements are 6,44\n"
     ]
    }
   ],
   "source": [
    "\n",
    "let min_k = 3;\n",
    "let max_k = 2;\n",
    "let flArr = [4, 6, 1, 44, 56, 38, 23, 5, 66];\n",
    "\n",
    "function InsertionSort(array) {\n",
    "  let length = array.length;\n",
    "\n",
    "  for (i = 1; i < length; i++) {\n",
    "    let key = array[i];\n",
    "    let j = i - 1;\n",
    "    while (j >= 0 && array[j] > key) {\n",
    "      array[j + 1] = array[j];\n",
    "      j = j - 1;\n",
    "    }\n",
    "    array[j + 1] = key;\n",
    "  }\n",
    "  return array;\n",
    "}\n",
    "const findLargest = (array, max, min) => {\n",
    "  InsertionSort(array);\n",
    "  let elem = [];\n",
    "  let min_elem = array[min];\n",
    "  let max_elem = array[array.length - 1 - max];\n",
    "  elem.push(min_elem);\n",
    "  elem.push(max_elem);\n",
    "  return elem;\n",
    "};\n",
    "\n",
    "console.log(\n",
    "  min_k +\n",
    "    \" \" +\n",
    "    \"min\" +\n",
    "    \" \" +\n",
    "    \"&\" +\n",
    "    \" \" +\n",
    "    max_k +\n",
    "    \" max elements are \" +\n",
    "    findLargest(flArr, max_k, min_k)\n",
    ");\n",
    "\n"
   ]
  },
  {
   "cell_type": "markdown",
   "id": "c7a53fec",
   "metadata": {},
   "source": [
    "Q7. Move all the negative elements to one side of the array"
   ]
  },
  {
   "cell_type": "code",
   "execution_count": 5,
   "id": "91dbf5db",
   "metadata": {},
   "outputs": [
    {
     "name": "stdout",
     "output_type": "stream",
     "text": [
      "[\n",
      "  -98, -71, -43, -12,\n",
      "   13,  34,  51,  64,\n",
      "   83\n",
      "]\n"
     ]
    }
   ],
   "source": [
    "\n",
    "\n",
    "\n",
    "let moveNArr = [51, -71, 64, -98, 34, 83, -12, 13, -43];\n",
    "const moveNegative = (array) => {\n",
    "  for (let i = 1; i < array.length; i++) {\n",
    "    let key = array[i];\n",
    "    let j = i - 1;\n",
    "    while (j >= 0 && array[j] > key) {\n",
    "      array[j + 1] = array[j];\n",
    "      j = j - 1;\n",
    "    }\n",
    "    array[j + 1] = key;\n",
    "  }\n",
    "  return array;\n",
    "};\n",
    "console.log(moveNegative(moveNArr));"
   ]
  },
  {
   "cell_type": "markdown",
   "id": "759a5ca3",
   "metadata": {},
   "source": [
    "Q8. Reverse a string using a stack data structure"
   ]
  },
  {
   "cell_type": "code",
   "execution_count": 7,
   "id": "54450ba8",
   "metadata": {},
   "outputs": [
    {
     "name": "stdout",
     "output_type": "stream",
     "text": [
      "Original String: Hello, World!\n",
      "Reversed String: !dlroW ,olleH\n"
     ]
    }
   ],
   "source": [
    "function reverseStringWithStack(inputString) {\n",
    "  const stack = [];\n",
    "  const reversedString = [];\n",
    "\n",
    "  // Push each character of the input string onto the stack\n",
    "  for (let char of inputString) {\n",
    "    stack.push(char);\n",
    "  }\n",
    "\n",
    "  // Pop characters from the stack to build the reversed string\n",
    "  while (stack.length > 0) {\n",
    "    reversedString.push(stack.pop());\n",
    "  }\n",
    "\n",
    "  return reversedString.join('');\n",
    "}\n",
    "\n",
    "const originalString = \"Hello, World!\";\n",
    "const reversedString = reverseStringWithStack(originalString);\n",
    "console.log(\"Original String: \" + originalString);\n",
    "console.log(\"Reversed String: \" + reversedString);\n"
   ]
  },
  {
   "cell_type": "markdown",
   "id": "c84a3d37",
   "metadata": {},
   "source": [
    "Q9. Evaluate a postfix expression using stack"
   ]
  },
  {
   "cell_type": "code",
   "execution_count": 8,
   "id": "a0e0a256",
   "metadata": {},
   "outputs": [
    {
     "name": "stdout",
     "output_type": "stream",
     "text": [
      "element: 7.7\n",
      "element: 7\n",
      "element: +\n",
      "var x/y: 7 7.7 element: +\n",
      "[ 14.7 ]\n"
     ]
    },
    {
     "data": {
      "text/plain": [
       "14.7"
      ]
     },
     "execution_count": 8,
     "metadata": {},
     "output_type": "execute_result"
    }
   ],
   "source": [
    "\n",
    "\n",
    "function postfixEval(postfixArray) {\n",
    "  var stack = [];\n",
    "\n",
    "  for (element of postfixArray) {\n",
    "    console.log(\"element: \" + element);\n",
    "\n",
    "    if (isNaN(element)) {\n",
    "      var x = stack.pop();\n",
    "      var y = stack.pop();\n",
    "      console.log(\"var x/y: \" + x + \" \" + y + \" element: \" + element);\n",
    "      if (element == \"+\") {\n",
    "        result = y + x;\n",
    "        stack.push(y + x);\n",
    "      } else if (element == \"-\") {\n",
    "        stack.push(y - x);\n",
    "      } else if (element == \"*\") {\n",
    "        stack.push(y * x);\n",
    "      } else if (element == \"/\") {\n",
    "        stack.push(y / x);\n",
    "      }\n",
    "    } else {\n",
    "      stack.push(parseFloat(element));\n",
    "    }\n",
    "  }\n",
    "\n",
    "  var returnValue = null;\n",
    "  while (stack.length > 0) {\n",
    "    console.log(stack);\n",
    "    var element = stack.pop();\n",
    "    if (isNaN(element)) {\n",
    "      continue;\n",
    "    } else {\n",
    "      returnValue = element;\n",
    "    }\n",
    "  }\n",
    "  return returnValue;\n",
    "}\n",
    "\n",
    "postfixEval([\"7.7\", \"7\", \"+\"]);\n"
   ]
  },
  {
   "cell_type": "markdown",
   "id": "7b020df5",
   "metadata": {},
   "source": [
    "Q10. Implement a queue using the stack data structure"
   ]
  },
  {
   "cell_type": "code",
   "execution_count": 9,
   "id": "a80cbd39",
   "metadata": {},
   "outputs": [
    {
     "name": "stdout",
     "output_type": "stream",
     "text": [
      "[ 24 ]\n",
      "[ 13, 24 ]\n",
      "[ 44, 13, 24 ]\n",
      "[ 28, 44, 13, 24 ]\n",
      "24\n",
      "13\n"
     ]
    }
   ],
   "source": [
    "\n",
    "\n",
    "let QueckArr = [23, 35, 13, 67, 44, 90, 101];\n",
    "\n",
    "class Queue {\n",
    "  constructor() {\n",
    "    this.stack = [];\n",
    "    this.stack2 = [];\n",
    "\n",
    "    this.enqueue = (val) => {\n",
    "      while (this.stack.length > 0) {\n",
    "        this.stack2.push(this.stack.pop());\n",
    "      }\n",
    "      this.stack.push(val);\n",
    "      while (this.stack2.length != 0) {\n",
    "        this.stack.push(this.stack2.pop());\n",
    "      }\n",
    "      return this.stack;\n",
    "    };\n",
    "    this.dequeue = () => {\n",
    "      if (this.stack.length == 0) {\n",
    "        return \"Queue Empty\";\n",
    "      }\n",
    "      let top = this.stack[this.stack.length - 1];\n",
    "      this.stack.pop();\n",
    "      return top;\n",
    "    };\n",
    "  }\n",
    "}\n",
    "let queue = new Queue();\n",
    "\n",
    "console.log(queue.enqueue(24));\n",
    "console.log(queue.enqueue(13));\n",
    "console.log(queue.enqueue(44));\n",
    "console.log(queue.enqueue(28));\n",
    "console.log(queue.dequeue());\n",
    "console.log(queue.dequeue());\n"
   ]
  },
  {
   "cell_type": "code",
   "execution_count": null,
   "id": "030629c3",
   "metadata": {},
   "outputs": [],
   "source": []
  }
 ],
 "metadata": {
  "kernelspec": {
   "display_name": "JavaScript (Node.js)",
   "language": "javascript",
   "name": "javascript"
  },
  "language_info": {
   "file_extension": ".js",
   "mimetype": "application/javascript",
   "name": "javascript",
   "version": "18.12.1"
  }
 },
 "nbformat": 4,
 "nbformat_minor": 5
}
